{
  "nbformat": 4,
  "nbformat_minor": 0,
  "metadata": {
    "colab": {
      "name": "Cópia de Olá, este é o Colaboratory",
      "provenance": [],
      "collapsed_sections": [],
      "include_colab_link": true
    },
    "kernelspec": {
      "display_name": "Python 3",
      "name": "python3"
    }
  },
  "cells": [
    {
      "cell_type": "markdown",
      "metadata": {
        "id": "view-in-github",
        "colab_type": "text"
      },
      "source": [
        "<a href=\"https://colab.research.google.com/github/gisnarapires/-Residential-Electric-Project/blob/master/C%C3%B3pia_de_Ol%C3%A1%2C_este_%C3%A9_o_Colaboratory.ipynb\" target=\"_parent\"><img src=\"https://colab.research.google.com/assets/colab-badge.svg\" alt=\"Open In Colab\"/></a>"
      ]
    },
    {
      "cell_type": "markdown",
      "metadata": {
        "id": "mhhhXSEpBD9e"
      },
      "source": [
        "# DESAFIO 1\n"
      ]
    },
    {
      "cell_type": "code",
      "metadata": {
        "id": "OIsjZpj1BIDp"
      },
      "source": [
        "#------------------------------------------------------------------------\n",
        "# Primeiro desafio do Programa Inova Maranhão Trilha de Dados\n",
        "#Gisnara Pires\n",
        "\n",
        "print('JOGO DA CONQUISTA DOS CONTINENTES CAT')\n",
        "print('             INÍCIO')\n",
        "\n",
        "menu_list = ['PRESS:',\n",
        "                '| 0 | para Sair',\n",
        "                '| 1 | para embarcar na História/Geografia',\n",
        "                '| 2 | para conhecer os Personagens',\n",
        "                '| 3 | para descorbrir os Monstros']\n",
        "def menu(lista):\n",
        "    for opcao in lista:\n",
        "        print(opcao)\n",
        "    opcao = int(input('ENTRADA:  '))\n",
        "\n",
        "    if opcao == 1:\n",
        "        print('\\nHISTÓRIA E GEOGRAFIA DOS CONTINENTES')\n",
        "        menu01 = ['PRESS: \\n',\n",
        "                '| 0 | para Sair',\n",
        "                '| 1 | para embarcar na História/Geografia do continente Marítimo',\n",
        "                '| 2 | para embarcar na História/Geografia do continente Construção',\n",
        "                '| 3 | para embarcar na História/Geografia do continente Mineração']\n",
        "        for opcao in menu01:\n",
        "            print(opcao)\n",
        "        opcmenu01 = int(input('ENTRADA:  '))\n",
        "        if opcmenu01 == 1:\n",
        "            print('\\nHistoria do continente Marítimo:')\n",
        "            print('Criado para oferecer o mais completo pacote de soluções de propulsão ou de energia de bordo de acordo com a necessidade de seu projeto.')\n",
        "            print('Conte com a confiabilidade dos equipamentos MaK para o segmento marítimo e com a moderna estrutura do continente Marítimo.')\n",
        "            print('Suporte na especificação e acompanhamento no desenvolvimento de projetos.')\n",
        "\n",
        "        elif opcmenu01 == 2:\n",
        "            print('\\nHistoria do continente Construção:')\n",
        "            print('Criada para atuar com cidadãos resistentes e dotadas de alta tecnologia')\n",
        "            print('Não importa o local de trabalho, nossas cidadãos fazem o trabalho com força, controle e produtividade sem igual.') \n",
        "            print('Os cidadãos mais versáteis e produtivos do campo, são sinônimos de confiança e desempenho, mesmo sob condições difíceis no campo de trabalho.')\n",
        "            \n",
        "        elif opcmenu01 == 3:\n",
        "            print('\\nHistoria do continente Mineração')\n",
        "            print('Hoje, a demanda por materiais de mineração é maior do que em qualquer outra época de nossa história.')\n",
        "            print('O desenvolvimento mundial e o crescimento da urbanização estão aumentando cada vez mais a dependência de minerais, metais e carvão.')\n",
        "            print('Segundo as expectativas, o uso de energia deve crescer significativamente nas próximas décadas,')\n",
        "            print('dando ainda mais ênfase a problemas de fornecimento, segurança, custos e impacto ambiental.')\n",
        "        elif opcmenu01 == 0:\n",
        "            exit()\n",
        "\n",
        "    elif opcao == 2:\n",
        "        print('\\nPERSONAGENS DOS CONTINENTES\\n')\n",
        "        menu02 = ['PRESS: ',\n",
        "                '| 0 | para Sair',\n",
        "                '| 1 | para conhecer os personagens do continente Marítimo',\n",
        "                '| 2 | para conhecer os personagens do continente Construção',\n",
        "                '| 3 | para conhecer os personagens do continente Mineração']\n",
        "        for opcao in menu02:\n",
        "            print(opcao)\n",
        "        opcmenu02 = int(input('ENTRADA:  '))\n",
        "        if opcmenu02 == 1:\n",
        "            print('\\nPersonagens do continente Marítimo:') \n",
        "            print('MaK, EMD, e CAT')\n",
        "        elif opcmenu02 == 2:\n",
        "            print('\\nPersonagens do continente Construção:')\n",
        "            print('Toda linha CAT')\n",
        "        elif opcmenu02 == 3:\n",
        "            print('\\nPersonagens do continente Mineração:')\n",
        "            print('Caminhões Fora de Estrada,\\nCaminhões Articulados,\\nCarregadeiras de Rodas,\\nEscavadeiras,\\nTratores de Esteira,\\nMotoniveladoras\\nMinicarregadeiras,\\nRetroescavadeira, etc ')\n",
        "        elif opcmenu02 == 0:\n",
        "            exit()\n",
        "\n",
        "    elif opcao == 3:\n",
        "        print('\\nMONSTROS DOS CONTINENTES\\n')\n",
        "        menu03 = ['PRESS: ',\n",
        "                '| 0 | para Sair',\n",
        "                '| 1 | para descobrir os monstros do continente Marítimo',\n",
        "                '| 2 | para descobrir os monstros do continente Construção',\n",
        "                '| 3 | para descobrir os monstros do continente Mineração']\n",
        "        for opcao in menu03:\n",
        "            print(opcao)\n",
        "        opcmenu03 = int(input('ENTRADA:  '))\n",
        "        if opcmenu03 == 1:\n",
        "            print('\\nMonstros do continente do A:\\nExcavator\\nScraper')\n",
        "        elif opcmenu03 == 2:\n",
        "            print('\\nMonstros do continente B:\\nBoobCat\\nBulldozer')\n",
        "        elif opcmenu03 == 3:\n",
        "            print('\\nMonstros do continente C:\\nDragLine\\nLongWall')\n",
        "        elif opcmenu03 == 0:\n",
        "            exit()\n",
        "\n",
        "menu(menu_list)"
      ],
      "execution_count": null,
      "outputs": []
    },
    {
      "cell_type": "code",
      "metadata": {
        "id": "lc1S_BIQBJa6"
      },
      "source": [
        ""
      ],
      "execution_count": null,
      "outputs": []
    }
  ]
}